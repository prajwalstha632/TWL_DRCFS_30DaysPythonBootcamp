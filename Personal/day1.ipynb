{
 "cells": [
  {
   "cell_type": "code",
   "execution_count": 2,
   "metadata": {},
   "outputs": [
    {
     "name": "stdout",
     "output_type": "stream",
     "text": [
      "Hello World\n"
     ]
    }
   ],
   "source": [
    "print(\"Hello World\")"
   ]
  },
  {
   "cell_type": "markdown",
   "metadata": {},
   "source": [
    "Input and Variables"
   ]
  },
  {
   "cell_type": "code",
   "execution_count": 6,
   "metadata": {},
   "outputs": [
    {
     "name": "stdout",
     "output_type": "stream",
     "text": [
      "Hello Prajwal\n"
     ]
    }
   ],
   "source": [
    "name = input(\"What is your name? \")\n",
    "print(\"Hello \" + name)"
   ]
  },
  {
   "cell_type": "markdown",
   "metadata": {},
   "source": [
    "1. Int -> Integer\n",
    "2. Str -> String\n",
    "3. Float -> Decimal\n",
    "4. None -> Null\n",
    "5. Bool -> Boolean (True or False)"
   ]
  },
  {
   "cell_type": "code",
   "execution_count": 8,
   "metadata": {},
   "outputs": [
    {
     "name": "stdout",
     "output_type": "stream",
     "text": [
      "<class 'int'>\n"
     ]
    }
   ],
   "source": [
    "integer = 1\n",
    "print(type(integer))"
   ]
  },
  {
   "cell_type": "code",
   "execution_count": 9,
   "metadata": {},
   "outputs": [
    {
     "name": "stdout",
     "output_type": "stream",
     "text": [
      "True\n"
     ]
    }
   ],
   "source": [
    "# Boolean\n",
    "print(1==1)"
   ]
  },
  {
   "cell_type": "markdown",
   "metadata": {},
   "source": [
    "Manipulation with variables and input"
   ]
  },
  {
   "cell_type": "code",
   "execution_count": 22,
   "metadata": {},
   "outputs": [
    {
     "name": "stdout",
     "output_type": "stream",
     "text": [
      "Your age is 21\n"
     ]
    }
   ],
   "source": [
    "age = int(input(\"What is your age? \"))\n",
    "print(\"Your age is\", age) #comma adds the space and changes the data type\n",
    "# if no comma in the code; CODE: print(\"Your age is \" + str(age))"
   ]
  },
  {
   "cell_type": "markdown",
   "metadata": {},
   "source": [
    "## Control Statements"
   ]
  },
  {
   "cell_type": "markdown",
   "metadata": {},
   "source": [
    "For driving license:\n",
    "\n",
    "1. Input user's age\n",
    "2. Convert user's age to interger\n",
    "3. Check if user is older than 16 years old.\n",
    "4. If user is older, show he is eligible else show he is not"
   ]
  },
  {
   "cell_type": "code",
   "execution_count": 3,
   "metadata": {},
   "outputs": [
    {
     "name": "stdout",
     "output_type": "stream",
     "text": [
      "You are eligible for your driving license\n"
     ]
    }
   ],
   "source": [
    "# Get user's age\n",
    "age = int(input(\"What is your age? \"))\n",
    "\n",
    "# Compare user's age\n",
    "if age >= 16:\n",
    "    print(\"You are eligible for your driving license\")\n",
    "else:\n",
    "    print(\"You are not old enough to get your license\")"
   ]
  },
  {
   "cell_type": "code",
   "execution_count": 8,
   "metadata": {},
   "outputs": [
    {
     "name": "stdout",
     "output_type": "stream",
     "text": [
      "Your username and password does not match\n"
     ]
    }
   ],
   "source": [
    "# Login System\n",
    "\n",
    "username = input(\"Enter your username \")\n",
    "password = input(\"Enter your password\")\n",
    "\n",
    "if username == \"prajwal\" and password == \"passw0rd\":\n",
    "    print(\"Logged in as duck\")\n",
    "elif username == \"ankur\" and password == \"ankur123\":\n",
    "    print(\"Logged in as ankur\")\n",
    "else:\n",
    "    print(\"Your username and password does not match\")"
   ]
  },
  {
   "cell_type": "markdown",
   "metadata": {},
   "source": [
    "## Looping statements"
   ]
  },
  {
   "cell_type": "markdown",
   "metadata": {},
   "source": [
    "#### Types of looping statements\n",
    "\n",
    "1. For Loop\n",
    "2. While loop"
   ]
  },
  {
   "cell_type": "code",
   "execution_count": 15,
   "metadata": {},
   "outputs": [
    {
     "name": "stdout",
     "output_type": "stream",
     "text": [
      "0\n",
      "1\n",
      "2\n",
      "3\n",
      "4\n",
      "5\n",
      "6\n",
      "7\n",
      "8\n",
      "9\n",
      "10\n"
     ]
    }
   ],
   "source": [
    "for i in range(0, 11):\n",
    "    print(i)"
   ]
  },
  {
   "cell_type": "code",
   "execution_count": 22,
   "metadata": {},
   "outputs": [
    {
     "name": "stdout",
     "output_type": "stream",
     "text": [
      "0 It is even\n",
      "1 It is odd\n",
      "2 It is even\n",
      "3 It is odd\n",
      "4 It is even\n",
      "5 It is odd\n",
      "6 It is even\n",
      "7 It is odd\n",
      "8 It is even\n",
      "9 It is odd\n"
     ]
    }
   ],
   "source": [
    "# Odd and even\n",
    "\n",
    "for i in range(10):\n",
    "    if i % 2 == 0:\n",
    "        print(i, \"It is even\")\n",
    "    else:\n",
    "        print(i, \"It is odd\")"
   ]
  },
  {
   "cell_type": "code",
   "execution_count": 35,
   "metadata": {},
   "outputs": [
    {
     "name": "stdout",
     "output_type": "stream",
     "text": [
      "10\n",
      "5\n"
     ]
    }
   ],
   "source": [
    "# Applying 10 to 1 loop\n",
    "\n",
    "for i in range(10, 0, -5):\n",
    "    print(i)"
   ]
  },
  {
   "cell_type": "markdown",
   "metadata": {},
   "source": [
    "## Guessing Game\n",
    "\n",
    "1. Generate a random number \n",
    "2. Take input from user (int)\n",
    "3. Compare the number:\n",
    "    a. "
   ]
  },
  {
   "cell_type": "code",
   "execution_count": 32,
   "metadata": {},
   "outputs": [
    {
     "name": "stdout",
     "output_type": "stream",
     "text": [
      "**************************************************\n",
      "The guess is lower than the answer\n",
      "**************************************************\n",
      "**************************************************\n",
      "The guess is lower than the answer\n",
      "**************************************************\n",
      "**************************************************\n",
      "The guess is lower than the answer\n",
      "**************************************************\n",
      "**************************************************\n",
      "The guess is lower than the answer\n",
      "**************************************************\n",
      "**************************************************\n",
      "The guess is lower than the answer\n",
      "**************************************************\n",
      "You are a bad guesser.\n"
     ]
    }
   ],
   "source": [
    "import random\n",
    "answer = random.randint(1, 10)\n",
    "# underscore (_) is used to dispose any unwanted value \n",
    "for i in range(5):\n",
    "    my_number = int(input(\"Enter your number here: \"))\n",
    "    if my_number == answer:\n",
    "        print(\"*\"*50)\n",
    "        print(f\"HOORAY! You got the number right in {i+1} tries\")\n",
    "        print(\"*\"*50)\n",
    "        break\n",
    "    elif my_number > answer:\n",
    "        print(\"*\"*50)\n",
    "        print(\"The guess is higher than the answer\")\n",
    "        print(\"*\"*50)\n",
    "    elif my_number < answer:\n",
    "        print(\"*\"*50)\n",
    "        print(\"The guess is lower than the answer\")\n",
    "        print(\"*\"*50)\n",
    "    if i == 4:\n",
    "        print(\"You are a bad guesser.\")"
   ]
  },
  {
   "cell_type": "code",
   "execution_count": null,
   "metadata": {},
   "outputs": [],
   "source": []
  }
 ],
 "metadata": {
  "kernelspec": {
   "display_name": "Python 3.11.0 64-bit",
   "language": "python",
   "name": "python3"
  },
  "language_info": {
   "codemirror_mode": {
    "name": "ipython",
    "version": 3
   },
   "file_extension": ".py",
   "mimetype": "text/x-python",
   "name": "python",
   "nbconvert_exporter": "python",
   "pygments_lexer": "ipython3",
   "version": "3.11.0"
  },
  "orig_nbformat": 4,
  "vscode": {
   "interpreter": {
    "hash": "137fa7aba73b01a85281f0e7ccf6669352490f9e23e8349f61182553bc9c7992"
   }
  }
 },
 "nbformat": 4,
 "nbformat_minor": 2
}
